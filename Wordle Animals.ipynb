{
 "cells": [
  {
   "cell_type": "code",
   "execution_count": 104,
   "metadata": {},
   "outputs": [],
   "source": [
    "from random import choice\n"
   ]
  },
  {
   "cell_type": "code",
   "execution_count": 105,
   "metadata": {},
   "outputs": [],
   "source": [
    "def game_instruction():\n",
    "    print(\"\"\"Wordle is a single player game \n",
    "A player has to guess a five letter hidden word \n",
    "You have 6  tries to guess my secret word \n",
    "\"o\" Indicates that the letter at that position was guessed correctly \n",
    "\"x\" indicates that the letter at that position is in the hidden word, but in a different position \n",
    "\"-\" indicates that the letter at that position is wrong, and isn't in the hidden word\"\"\")\n"
   ]
  },
  {
   "cell_type": "code",
   "execution_count": 106,
   "metadata": {},
   "outputs": [],
   "source": [
    "#Consts\n",
    "ALLOWED_GUESSES = 6\n",
    "CORRECT_PLACE = 'o'\n",
    "CORRECT_LETTER= 'x'\n",
    "ICORRECT_LETTER ='-'\n",
    "animals = ['akita','bison','bongo','booby','camel','coral','crane','dingo','eagle','goose','horse','human','koala','lemur','liger','llama','macaw','moose','mouse','otter','prawn','quail','quoll','ratel','robin','sheep','skunk','sloth','snail','snake','squid','tapir','tiger','whale','xerus','zebra','zorse']"
   ]
  },
  {
   "cell_type": "code",
   "execution_count": 107,
   "metadata": {},
   "outputs": [],
   "source": [
    "#Colors\n",
    "R  = '\\033[31m' # red\n",
    "G  = '\\033[32m' # green\n"
   ]
  },
  {
   "cell_type": "code",
   "execution_count": 108,
   "metadata": {},
   "outputs": [],
   "source": [
    "def check_guess(guess, answer):\n",
    "    guessed = []\n",
    "    for i, letter in enumerate(guess):\n",
    "        if answer[i] == guess[i]:\n",
    "            guessed += CORRECT_PLACE\n",
    "        elif letter in answer:\n",
    "            guessed += CORRECT_LETTER\n",
    "        else:\n",
    "            guessed += ICORRECT_LETTER\n",
    "    return ''.join(guessed)"
   ]
  },
  {
   "cell_type": "code",
   "execution_count": 109,
   "metadata": {},
   "outputs": [],
   "source": [
    "def game(chosen_word):\n",
    "    end_of_game = False\n",
    "    count = ALLOWED_GUESSES\n",
    "    already_guessed = []\n",
    "    full_wordle_pattern = []\n",
    "\n",
    "    while not end_of_game:\n",
    "        guess = str(input(G+\"Guess the word: \"))\n",
    "        if guess == chosen_word:\n",
    "            print(G+ \"VICTORTY!!!\\n\")\n",
    "            break\n",
    "             \n",
    "        while len(guess) != 5 or guess in already_guessed or guess not in animals:\n",
    "            if guess in already_guessed:\n",
    "                print(R+\"You've already guessed this word!!\\n\")\n",
    "            elif guess not in animals:\n",
    "                print(R+'Word not in Words list!!\\n')\n",
    "            else:\n",
    "                print(R+'Now try again  with  a 5 letter word!!\\n')\n",
    "            guess =  str(input(\"\"))\n",
    "        \n",
    "        count = count -1\n",
    "        already_guessed.append(guess)\n",
    "        pattern = check_guess(guess, chosen_word)\n",
    "        full_wordle_pattern.append(pattern)\n",
    "        print(G+pattern, sep=\"\\n\")\n",
    "        print(G+\"{} more guesses\".format(count))\n",
    "        if len(already_guessed) == ALLOWED_GUESSES:\n",
    "            end_of_game = True\n",
    "            \n",
    "    if len(already_guessed) == ALLOWED_GUESSES and guess != chosen_word:\n",
    "        print(G+ \"Game OVER!\")\n",
    "        print(G+\"Thw word was:{}\".format(chosen_word))\n",
    "        print(*already_guessed, sep=\"\\n\")\n",
    "        print(*full_wordle_pattern, sep=\"\\n\")\n",
    "    "
   ]
  },
  {
   "cell_type": "code",
   "execution_count": null,
   "metadata": {},
   "outputs": [
    {
     "name": "stdout",
     "output_type": "stream",
     "text": [
      "Wordle is a single player game \n",
      "A player has to guess a five letter hidden word \n",
      "You have 6  tries to guess my secret word \n",
      "\"o\" Indicates that the letter at that position was guessed correctly \n",
      "\"x\" indicates that the letter at that position is in the hidden word, but in a different position \n",
      "\"-\" indicates that the letter at that position is wrong, and isn't in the hidden word\n",
      "hidden word: zorse\n",
      "Guess the word: dingo\n",
      "\u001b[32m----x\n",
      "\u001b[32m5 more guesses\n",
      "Guess the word: goose\n",
      "\u001b[32m-oxoo\n",
      "\u001b[32m4 more guesses\n",
      "Guess the word: loyse\n",
      "\u001b[31mWord not in Words list!!\n",
      "\n"
     ]
    }
   ],
   "source": [
    "chosen_word = choice(animals)\n",
    "game_instruction()\n",
    "print(\"hidden word: {}\".format(chosen_word))\n",
    "game(chosen_word)\n",
    "\n",
    "    "
   ]
  }
 ],
 "metadata": {
  "kernelspec": {
   "display_name": "Python 3",
   "language": "python",
   "name": "python3"
  },
  "language_info": {
   "codemirror_mode": {
    "name": "ipython",
    "version": 3
   },
   "file_extension": ".py",
   "mimetype": "text/x-python",
   "name": "python",
   "nbconvert_exporter": "python",
   "pygments_lexer": "ipython3",
   "version": "3.8.3"
  }
 },
 "nbformat": 4,
 "nbformat_minor": 4
}
